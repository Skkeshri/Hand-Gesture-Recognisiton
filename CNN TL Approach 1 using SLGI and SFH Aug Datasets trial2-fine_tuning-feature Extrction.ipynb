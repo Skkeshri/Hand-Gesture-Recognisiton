{
 "cells": [
  {
   "cell_type": "code",
   "execution_count": 1,
   "metadata": {},
   "outputs": [],
   "source": [
    "import warnings\n",
    "warnings.filterwarnings(\"ignore\")"
   ]
  },
  {
   "cell_type": "code",
   "execution_count": 2,
   "metadata": {},
   "outputs": [],
   "source": [
    "import os\n",
    "import cv2\n",
    "import random\n",
    "import shutil\n",
    "import time\n",
    "import matplotlib\n",
    "import glob\n",
    "import operator\n",
    "import psutil\n",
    "import numpy as np\n",
    "import math\n",
    "import matplotlib.pyplot as plt\n",
    "import tensorflow as tf\n",
    "from tensorflow import keras\n",
    "from tensorflow.keras.models import Sequential\n",
    "from tensorflow.keras.layers import Dense, Activation\n",
    "from tensorflow.keras.preprocessing.image import ImageDataGenerator\n",
    "from tensorflow.keras.optimizers import Adam\n",
    "from tensorflow.keras.preprocessing import image\n",
    "from tensorflow.keras.models import Model\n",
    "from tensorflow.keras.models import load_model\n",
    "from tensorflow.keras.layers import Dense, Dropout, GlobalAveragePooling2D, GlobalMaxPooling2D, BatchNormalization, Conv2D, MaxPooling2D, Flatten\n",
    "from shutil import copyfile\n",
    "import pandas as pd\n",
    "import PIL\n",
    "from mlxtend.plotting import plot_confusion_matrix"
   ]
  },
  {
   "cell_type": "code",
   "execution_count": 3,
   "metadata": {},
   "outputs": [
    {
     "data": {
      "text/plain": [
       "[PhysicalDevice(name='/physical_device:CPU:0', device_type='CPU')]"
      ]
     },
     "execution_count": 3,
     "metadata": {},
     "output_type": "execute_result"
    }
   ],
   "source": [
    "physical_devices = tf.config.experimental.list_physical_devices('CPU')\n",
    "physical_devices"
   ]
  },
  {
   "cell_type": "code",
   "execution_count": 4,
   "metadata": {},
   "outputs": [],
   "source": [
    "# Import training set\n",
    "TRAINING_DIR = 'C:/Users/shubham.kumar/pactera_personal/Code_Work/gavin/SFH Aug Dataset - 60-20-20/train'\n",
    "\n",
    "# Import validation set\n",
    "VALIDATION_DIR = 'C:/Users/shubham.kumar/pactera_personal/Code_Work/gavin/SFH Aug Dataset - 60-20-20/validation'\n",
    "\n",
    "# Import test set\n",
    "TESTING_DIR = 'C:/Users/shubham.kumar/pactera_personal/Code_Work/gavin/SFH Aug Dataset - 60-20-20/test'"
   ]
  },
  {
   "cell_type": "code",
   "execution_count": 5,
   "metadata": {},
   "outputs": [],
   "source": [
    "# datagen = ImageDataGenerator(\n",
    "#         rescale=1. / 255,\n",
    "#         rotation_range=90,\n",
    "#         width_shift_range=0.2,\n",
    "#         zoom_range=0.2,\n",
    "#         horizontal_flip=True,\n",
    "#         fill_mode='nearest')"
   ]
  },
  {
   "cell_type": "code",
   "execution_count": 6,
   "metadata": {},
   "outputs": [],
   "source": [
    "learning_rate = 0.001\n",
    "epoch = 50\n",
    "batch_size = 32"
   ]
  },
  {
   "cell_type": "code",
   "execution_count": 7,
   "metadata": {},
   "outputs": [],
   "source": [
    "#char_name = 'CNN_TL_Approach_1_using_SLGI_and_SFH_Aug_Datasets_TRIAL2'\n",
    "char_name = 'CNN_TL_Approach_1_using_SLGI_and_SFH_Aug_Datasets_feature_extraction'\n",
    "\n",
    "char = os.path.join('C:/Users/shubham.kumar/pactera_personal/Code_Work/gavin', char_name)\n",
    "\n",
    "if not os.path.exists(char):\n",
    "    os.mkdir(char)\n",
    "else:\n",
    "    shutil.rmtree(char)\n",
    "    os.mkdir(char)"
   ]
  },
  {
   "cell_type": "code",
   "execution_count": 8,
   "metadata": {},
   "outputs": [],
   "source": [
    "# Function to reduce learning rate after every 10 epochs\n",
    "def lr_schedule(epoch):\n",
    "    return learning_rate * (0.1 ** int(epoch / 10))\n",
    "\n",
    "# Path for h5 file\n",
    "best_model_address = os.path.join(char, 'CNN_TL_Approach_1_using_SLGI_and_SFH_Aug_Datasets_model.h5')"
   ]
  },
  {
   "cell_type": "code",
   "execution_count": 9,
   "metadata": {},
   "outputs": [
    {
     "name": "stdout",
     "output_type": "stream",
     "text": [
      "WARNING:tensorflow:`period` argument is deprecated. Please use `save_freq` to specify the frequency in number of batches seen.\n"
     ]
    }
   ],
   "source": [
    "callback = [keras.callbacks.LearningRateScheduler(lr_schedule, verbose = 1),\n",
    "            keras.callbacks.EarlyStopping(monitor = 'loss', min_delta = 0.001, patience = 3, verbose=1, mode = 'min', restore_best_weights = True),\n",
    "            keras.callbacks.ModelCheckpoint(best_model_address, monitor = 'loss', verbose=1, save_best_only=True, save_weights_only=False, mode = 'min' , period=1)]"
   ]
  },
  {
   "cell_type": "code",
   "execution_count": 10,
   "metadata": {},
   "outputs": [
    {
     "data": {
      "text/plain": [
       "'\\ndef Custom_Model():\\n    print(\"\\nTRAINING ON A COMPLEX CUSTOM MODEL:-\")\\n    \\n    model = keras.models.Sequential()\\n    for l in range(layer):\\n        l += 1\\n        m = (2**l)//2\\n        for c in range(conv_layer):\\n            model.add(Conv2D(conv*m, (conv_size, conv_size), padding = \\'same\\', input_shape = (32,32,3), activation = activation))\\n        model.add(MaxPooling2D(pool_size = (2, 2)))\\n    model.add(Flatten())\\n    model.add(Dense(dense, activation=activation))\\n#     model.add(Dropout(dropout))\\n    model.add(Dense(output_layer, activation=output_activation))\\n    return model\\n'"
      ]
     },
     "execution_count": 10,
     "metadata": {},
     "output_type": "execute_result"
    }
   ],
   "source": [
    "'''\n",
    "def Custom_Model():\n",
    "    print(\"\\nTRAINING ON A COMPLEX CUSTOM MODEL:-\")\n",
    "    \n",
    "    model = keras.models.Sequential()\n",
    "    for l in range(layer):\n",
    "        l += 1\n",
    "        m = (2**l)//2\n",
    "        for c in range(conv_layer):\n",
    "            model.add(Conv2D(conv*m, (conv_size, conv_size), padding = 'same', input_shape = (32,32,3), activation = activation))\n",
    "        model.add(MaxPooling2D(pool_size = (2, 2)))\n",
    "    model.add(Flatten())\n",
    "    model.add(Dense(dense, activation=activation))\n",
    "#     model.add(Dropout(dropout))\n",
    "    model.add(Dense(output_layer, activation=output_activation))\n",
    "    return model\n",
    "'''"
   ]
  },
  {
   "cell_type": "code",
   "execution_count": 11,
   "metadata": {},
   "outputs": [],
   "source": [
    "output_activation = 'softmax'\n",
    "losses = 'categorical_crossentropy'\n",
    "class_mode = 'categorical'\n",
    "output_layer = 2"
   ]
  },
  {
   "cell_type": "code",
   "execution_count": 12,
   "metadata": {},
   "outputs": [],
   "source": [
    "optimizer = keras.optimizers.Adam(learning_rate = learning_rate, beta_1 = 0.9, beta_2 = 0.999, amsgrad = False)"
   ]
  },
  {
   "cell_type": "code",
   "execution_count": 13,
   "metadata": {},
   "outputs": [
    {
     "name": "stdout",
     "output_type": "stream",
     "text": [
      "Found 1410 images belonging to 2 classes.\n",
      "Found 470 images belonging to 2 classes.\n",
      "Found 472 images belonging to 2 classes.\n"
     ]
    }
   ],
   "source": [
    "train_datagen = ImageDataGenerator(rescale=1.0/255.)\n",
    "train_generator = train_datagen.flow_from_directory(TRAINING_DIR,\n",
    "                                                    batch_size = batch_size,\n",
    "                                                    class_mode = class_mode,\n",
    "                                                    target_size = (32,32),\n",
    "                                                    shuffle=True)\n",
    "\n",
    "validation_datagen = ImageDataGenerator(rescale=1.0/255.)\n",
    "validation_generator = validation_datagen.flow_from_directory(VALIDATION_DIR,\n",
    "                                                              batch_size = batch_size,\n",
    "                                                              class_mode = class_mode,\n",
    "                                                              target_size = (32,32),\n",
    "                                                              shuffle=True)\n",
    "\n",
    "test_datagen = ImageDataGenerator(rescale=1.0/255.)\n",
    "test_generator = test_datagen.flow_from_directory(TESTING_DIR,\n",
    "                                                  batch_size = batch_size,\n",
    "                                                  class_mode = class_mode,\n",
    "                                                  target_size = (32,32),\n",
    "                                                  shuffle=True)"
   ]
  },
  {
   "cell_type": "code",
   "execution_count": 14,
   "metadata": {},
   "outputs": [],
   "source": [
    "dense = 128\n",
    "activation = 'relu'\n",
    "#dropout = 20 (not used)\n",
    "#dropout = dropout/100 (not used)\n",
    "\n",
    "# Within pre-trained model\n",
    "#layer = 4\n",
    "#conv_layer = 1\n",
    "#conv = 16\n",
    "#conv_size = 3"
   ]
  },
  {
   "cell_type": "code",
   "execution_count": 15,
   "metadata": {},
   "outputs": [
    {
     "name": "stdout",
     "output_type": "stream",
     "text": [
      "Model: \"sequential\"\n",
      "_________________________________________________________________\n",
      "Layer (type)                 Output Shape              Param #   \n",
      "=================================================================\n",
      "conv2d (Conv2D)              (None, 32, 32, 16)        448       \n",
      "_________________________________________________________________\n",
      "max_pooling2d (MaxPooling2D) (None, 16, 16, 16)        0         \n",
      "_________________________________________________________________\n",
      "conv2d_1 (Conv2D)            (None, 16, 16, 32)        4640      \n",
      "_________________________________________________________________\n",
      "max_pooling2d_1 (MaxPooling2 (None, 8, 8, 32)          0         \n",
      "_________________________________________________________________\n",
      "conv2d_2 (Conv2D)            (None, 8, 8, 64)          18496     \n",
      "_________________________________________________________________\n",
      "max_pooling2d_2 (MaxPooling2 (None, 4, 4, 64)          0         \n",
      "_________________________________________________________________\n",
      "conv2d_3 (Conv2D)            (None, 4, 4, 128)         73856     \n",
      "_________________________________________________________________\n",
      "max_pooling2d_3 (MaxPooling2 (None, 2, 2, 128)         0         \n",
      "_________________________________________________________________\n",
      "flatten (Flatten)            (None, 512)               0         \n",
      "_________________________________________________________________\n",
      "dense (Dense)                (None, 128)               65664     \n",
      "_________________________________________________________________\n",
      "dense_1 (Dense)              (None, 36)                4644      \n",
      "=================================================================\n",
      "Total params: 167,748\n",
      "Trainable params: 167,748\n",
      "Non-trainable params: 0\n",
      "_________________________________________________________________\n"
     ]
    }
   ],
   "source": [
    "pretrained_model = load_model(\"./transfer_learning/CNN_using_SLGI_Dataset/CNN_using_SLGI_Dataset_model.h5\")\n",
    "pretrained_model.summary()"
   ]
  },
  {
   "cell_type": "code",
   "execution_count": 16,
   "metadata": {},
   "outputs": [
    {
     "name": "stdout",
     "output_type": "stream",
     "text": [
      "Model: \"sequential\"\n",
      "_________________________________________________________________\n",
      "Layer (type)                 Output Shape              Param #   \n",
      "=================================================================\n",
      "conv2d (Conv2D)              (None, 32, 32, 16)        448       \n",
      "_________________________________________________________________\n",
      "max_pooling2d (MaxPooling2D) (None, 16, 16, 16)        0         \n",
      "_________________________________________________________________\n",
      "conv2d_1 (Conv2D)            (None, 16, 16, 32)        4640      \n",
      "_________________________________________________________________\n",
      "max_pooling2d_1 (MaxPooling2 (None, 8, 8, 32)          0         \n",
      "_________________________________________________________________\n",
      "conv2d_2 (Conv2D)            (None, 8, 8, 64)          18496     \n",
      "_________________________________________________________________\n",
      "max_pooling2d_2 (MaxPooling2 (None, 4, 4, 64)          0         \n",
      "_________________________________________________________________\n",
      "conv2d_3 (Conv2D)            (None, 4, 4, 128)         73856     \n",
      "_________________________________________________________________\n",
      "max_pooling2d_3 (MaxPooling2 (None, 2, 2, 128)         0         \n",
      "=================================================================\n",
      "Total params: 97,440\n",
      "Trainable params: 97,440\n",
      "Non-trainable params: 0\n",
      "_________________________________________________________________\n"
     ]
    }
   ],
   "source": [
    "extracted_features = pretrained_model\n",
    "extracted_features.pop() # removes the last dense layer\n",
    "extracted_features.pop() # removes the second last dense layer\n",
    "extracted_features.pop() # removes the flatten layer\n",
    "extracted_features.summary()"
   ]
  },
  {
   "cell_type": "code",
   "execution_count": 17,
   "metadata": {},
   "outputs": [],
   "source": [
    "#extracted_features.trainable = False"
   ]
  },
  {
   "cell_type": "code",
   "execution_count": 18,
   "metadata": {},
   "outputs": [],
   "source": [
    "# for k,v in extracted_features._get_trainable_state().items():\n",
    "#     k.trainable = False"
   ]
  },
  {
   "cell_type": "code",
   "execution_count": 19,
   "metadata": {},
   "outputs": [
    {
     "name": "stdout",
     "output_type": "stream",
     "text": [
      "Model: \"sequential\"\n",
      "_________________________________________________________________\n",
      "Layer (type)                 Output Shape              Param #   \n",
      "=================================================================\n",
      "conv2d (Conv2D)              (None, 32, 32, 16)        448       \n",
      "_________________________________________________________________\n",
      "max_pooling2d (MaxPooling2D) (None, 16, 16, 16)        0         \n",
      "_________________________________________________________________\n",
      "conv2d_1 (Conv2D)            (None, 16, 16, 32)        4640      \n",
      "_________________________________________________________________\n",
      "max_pooling2d_1 (MaxPooling2 (None, 8, 8, 32)          0         \n",
      "_________________________________________________________________\n",
      "conv2d_2 (Conv2D)            (None, 8, 8, 64)          18496     \n",
      "_________________________________________________________________\n",
      "max_pooling2d_2 (MaxPooling2 (None, 4, 4, 64)          0         \n",
      "_________________________________________________________________\n",
      "conv2d_3 (Conv2D)            (None, 4, 4, 128)         73856     \n",
      "_________________________________________________________________\n",
      "max_pooling2d_3 (MaxPooling2 (None, 2, 2, 128)         0         \n",
      "=================================================================\n",
      "Total params: 97,440\n",
      "Trainable params: 97,440\n",
      "Non-trainable params: 0\n",
      "_________________________________________________________________\n"
     ]
    }
   ],
   "source": [
    "extracted_features.summary()"
   ]
  },
  {
   "cell_type": "code",
   "execution_count": 20,
   "metadata": {},
   "outputs": [
    {
     "name": "stdout",
     "output_type": "stream",
     "text": [
      "Model: \"sequential\"\n",
      "_________________________________________________________________\n",
      "Layer (type)                 Output Shape              Param #   \n",
      "=================================================================\n",
      "conv2d (Conv2D)              (None, 32, 32, 16)        448       \n",
      "_________________________________________________________________\n",
      "max_pooling2d (MaxPooling2D) (None, 16, 16, 16)        0         \n",
      "_________________________________________________________________\n",
      "conv2d_1 (Conv2D)            (None, 16, 16, 32)        4640      \n",
      "_________________________________________________________________\n",
      "max_pooling2d_1 (MaxPooling2 (None, 8, 8, 32)          0         \n",
      "_________________________________________________________________\n",
      "conv2d_2 (Conv2D)            (None, 8, 8, 64)          18496     \n",
      "_________________________________________________________________\n",
      "max_pooling2d_2 (MaxPooling2 (None, 4, 4, 64)          0         \n",
      "_________________________________________________________________\n",
      "conv2d_3 (Conv2D)            (None, 4, 4, 128)         73856     \n",
      "_________________________________________________________________\n",
      "max_pooling2d_3 (MaxPooling2 (None, 2, 2, 128)         0         \n",
      "_________________________________________________________________\n",
      "flatten (Flatten)            (None, 512)               0         \n",
      "_________________________________________________________________\n",
      "dense_2 (Dense)              (None, 128)               65664     \n",
      "_________________________________________________________________\n",
      "output (Dense)               (None, 2)                 258       \n",
      "=================================================================\n",
      "Total params: 163,362\n",
      "Trainable params: 163,362\n",
      "Non-trainable params: 0\n",
      "_________________________________________________________________\n"
     ]
    }
   ],
   "source": [
    "model = extracted_features\n",
    "\n",
    "# model.add(Flatten(input_shape=(2, 2, 128), trainable = True))\n",
    "# model.add(Dense(dense, activation=activation, name = 'dense_2', trainable = True))\n",
    "# model.add(Dense(output_layer, activation = output_activation, name = 'output', trainable = True))\n",
    "\n",
    "model.add(Flatten(input_shape=(2, 2, 128)))\n",
    "model.add(Dense(dense, activation=activation, name = 'dense_2'))\n",
    "model.add(Dense(output_layer, activation = output_activation, name = 'output'))\n",
    "\n",
    "\n",
    "\n",
    "model.compile(optimizer = optimizer, loss = losses, metrics = ['accuracy', \n",
    "                                                               tf.keras.metrics.Precision(), \n",
    "                                                               tf.keras.metrics.Recall(),\n",
    "                                                               tf.keras.metrics.TruePositives(), \n",
    "                                                               tf.keras.metrics.TrueNegatives(), \n",
    "                                                               tf.keras.metrics.FalsePositives(),\n",
    "                                                               tf.keras.metrics.FalseNegatives()])\n",
    "model.summary()"
   ]
  },
  {
   "cell_type": "code",
   "execution_count": 21,
   "metadata": {},
   "outputs": [
    {
     "name": "stdout",
     "output_type": "stream",
     "text": [
      "weights: 12\n",
      "trainable_weights: 12\n",
      "non_trainable_weights: 0\n"
     ]
    }
   ],
   "source": [
    "print(\"weights:\", len(model.weights))\n",
    "print(\"trainable_weights:\", len(model.trainable_weights))\n",
    "print(\"non_trainable_weights:\", len(model.non_trainable_weights))"
   ]
  },
  {
   "cell_type": "code",
   "execution_count": 22,
   "metadata": {},
   "outputs": [],
   "source": [
    "# count = 1\n",
    "# for k,v in extracted_features._get_trainable_state().items():\n",
    "#     if count > 8:\n",
    "#         k.trainable = True\n",
    "#     else:\n",
    "#         k.trainable = False\n",
    "#     count = count+1"
   ]
  },
  {
   "cell_type": "code",
   "execution_count": 23,
   "metadata": {},
   "outputs": [
    {
     "name": "stdout",
     "output_type": "stream",
     "text": [
      "conv2d True\n",
      "max_pooling2d True\n",
      "conv2d_1 True\n",
      "max_pooling2d_1 True\n",
      "conv2d_2 True\n",
      "max_pooling2d_2 True\n",
      "conv2d_3 True\n",
      "max_pooling2d_3 True\n",
      "flatten True\n",
      "dense_2 True\n",
      "output True\n"
     ]
    }
   ],
   "source": [
    "for l in model.layers:\n",
    "    print(l.name, l.trainable)"
   ]
  },
  {
   "cell_type": "code",
   "execution_count": 42,
   "metadata": {},
   "outputs": [],
   "source": [
    "#model.summary()"
   ]
  },
  {
   "cell_type": "code",
   "execution_count": 24,
   "metadata": {},
   "outputs": [
    {
     "name": "stdout",
     "output_type": "stream",
     "text": [
      "Model: \"sequential\"\n",
      "_________________________________________________________________\n",
      "Layer (type)                 Output Shape              Param #   \n",
      "=================================================================\n",
      "conv2d (Conv2D)              (None, 32, 32, 16)        448       \n",
      "_________________________________________________________________\n",
      "max_pooling2d (MaxPooling2D) (None, 16, 16, 16)        0         \n",
      "_________________________________________________________________\n",
      "conv2d_1 (Conv2D)            (None, 16, 16, 32)        4640      \n",
      "_________________________________________________________________\n",
      "max_pooling2d_1 (MaxPooling2 (None, 8, 8, 32)          0         \n",
      "_________________________________________________________________\n",
      "conv2d_2 (Conv2D)            (None, 8, 8, 64)          18496     \n",
      "_________________________________________________________________\n",
      "max_pooling2d_2 (MaxPooling2 (None, 4, 4, 64)          0         \n",
      "_________________________________________________________________\n",
      "conv2d_3 (Conv2D)            (None, 4, 4, 128)         73856     \n",
      "_________________________________________________________________\n",
      "max_pooling2d_3 (MaxPooling2 (None, 2, 2, 128)         0         \n",
      "_________________________________________________________________\n",
      "flatten (Flatten)            (None, 512)               0         \n",
      "_________________________________________________________________\n",
      "dense_2 (Dense)              (None, 128)               65664     \n",
      "_________________________________________________________________\n",
      "output (Dense)               (None, 2)                 258       \n",
      "=================================================================\n",
      "Total params: 163,362\n",
      "Trainable params: 65,922\n",
      "Non-trainable params: 97,440\n",
      "_________________________________________________________________\n"
     ]
    }
   ],
   "source": [
    "#conv2d\n",
    "model.get_layer('conv2d').trainable = False\n",
    "#conv2d_1\n",
    "model.get_layer('conv2d_1').trainable = False\n",
    "\n",
    "#conv2d_2\n",
    "model.get_layer('conv2d_2').trainable = False\n",
    "\n",
    "#conv2d_3\n",
    "model.get_layer('conv2d_3').trainable = False\n",
    "\n",
    "model.summary()"
   ]
  },
  {
   "cell_type": "code",
   "execution_count": 25,
   "metadata": {},
   "outputs": [],
   "source": [
    "#model.compile()"
   ]
  },
  {
   "cell_type": "code",
   "execution_count": 26,
   "metadata": {},
   "outputs": [
    {
     "name": "stdout",
     "output_type": "stream",
     "text": [
      "<tensorflow.python.keras.engine.sequential.Sequential object at 0x000001EEEC431F40> True\n",
      "<tensorflow.python.keras.engine.input_layer.InputLayer object at 0x000001EEEC442AF0> True\n",
      "<tensorflow.python.keras.layers.convolutional.Conv2D object at 0x000001EEEC442C10> False\n",
      "<tensorflow.python.keras.layers.pooling.MaxPooling2D object at 0x000001EEEC45C850> True\n",
      "<tensorflow.python.keras.layers.convolutional.Conv2D object at 0x000001EEEC45C8E0> False\n",
      "<tensorflow.python.keras.layers.pooling.MaxPooling2D object at 0x000001EEEC4BED60> True\n",
      "<tensorflow.python.keras.layers.convolutional.Conv2D object at 0x000001EEEC45C2B0> False\n",
      "<tensorflow.python.keras.layers.pooling.MaxPooling2D object at 0x000001EEEC4CED00> True\n",
      "<tensorflow.python.keras.layers.convolutional.Conv2D object at 0x000001EEEC4D37F0> False\n",
      "<tensorflow.python.keras.layers.pooling.MaxPooling2D object at 0x000001EEEC4D3CA0> True\n",
      "<tensorflow.python.keras.layers.core.Flatten object at 0x000001EEEC549FA0> True\n",
      "<tensorflow.python.keras.layers.core.Dense object at 0x000001EEEC554AC0> True\n",
      "<tensorflow.python.keras.layers.core.Dense object at 0x000001EE9B187850> True\n"
     ]
    }
   ],
   "source": [
    "for k,v in model._get_trainable_state().items():\n",
    "    print(k,v)"
   ]
  },
  {
   "cell_type": "code",
   "execution_count": 27,
   "metadata": {},
   "outputs": [
    {
     "name": "stdout",
     "output_type": "stream",
     "text": [
      "Model: \"sequential\"\n",
      "_________________________________________________________________\n",
      "Layer (type)                 Output Shape              Param #   \n",
      "=================================================================\n",
      "conv2d (Conv2D)              (None, 32, 32, 16)        448       \n",
      "_________________________________________________________________\n",
      "max_pooling2d (MaxPooling2D) (None, 16, 16, 16)        0         \n",
      "_________________________________________________________________\n",
      "conv2d_1 (Conv2D)            (None, 16, 16, 32)        4640      \n",
      "_________________________________________________________________\n",
      "max_pooling2d_1 (MaxPooling2 (None, 8, 8, 32)          0         \n",
      "_________________________________________________________________\n",
      "conv2d_2 (Conv2D)            (None, 8, 8, 64)          18496     \n",
      "_________________________________________________________________\n",
      "max_pooling2d_2 (MaxPooling2 (None, 4, 4, 64)          0         \n",
      "_________________________________________________________________\n",
      "conv2d_3 (Conv2D)            (None, 4, 4, 128)         73856     \n",
      "_________________________________________________________________\n",
      "max_pooling2d_3 (MaxPooling2 (None, 2, 2, 128)         0         \n",
      "_________________________________________________________________\n",
      "flatten (Flatten)            (None, 512)               0         \n",
      "_________________________________________________________________\n",
      "dense_2 (Dense)              (None, 128)               65664     \n",
      "_________________________________________________________________\n",
      "output (Dense)               (None, 2)                 258       \n",
      "=================================================================\n",
      "Total params: 163,362\n",
      "Trainable params: 65,922\n",
      "Non-trainable params: 97,440\n",
      "_________________________________________________________________\n"
     ]
    }
   ],
   "source": [
    "model.summary()"
   ]
  },
  {
   "cell_type": "code",
   "execution_count": 28,
   "metadata": {},
   "outputs": [
    {
     "name": "stdout",
     "output_type": "stream",
     "text": [
      "WARNING:tensorflow:From <ipython-input-28-f71a34465680>:3: Model.fit_generator (from tensorflow.python.keras.engine.training) is deprecated and will be removed in a future version.\n",
      "Instructions for updating:\n",
      "Please use Model.fit, which supports generators.\n",
      "\n",
      "Epoch 00001: LearningRateScheduler reducing learning rate to 0.001.\n",
      "Epoch 1/50\n",
      "45/45 [==============================] - ETA: 0s - loss: 0.5225 - accuracy: 0.7794 - precision: 0.7794 - recall: 0.7794 - true_positives: 1099.0000 - true_negatives: 1099.0000 - false_positives: 311.0000 - false_negatives: 311.0000\n",
      "Epoch 00001: loss improved from inf to 0.52252, saving model to C:/Users/shubham.kumar/pactera_personal/Code_Work/gavin\\CNN_TL_Approach_1_using_SLGI_and_SFH_Aug_Datasets_feature_extraction\\CNN_TL_Approach_1_using_SLGI_and_SFH_Aug_Datasets_model.h5\n",
      "45/45 [==============================] - 3s 61ms/step - loss: 0.5225 - accuracy: 0.7794 - precision: 0.7794 - recall: 0.7794 - true_positives: 1099.0000 - true_negatives: 1099.0000 - false_positives: 311.0000 - false_negatives: 311.0000 - val_loss: 0.2396 - val_accuracy: 0.9064 - val_precision: 0.9064 - val_recall: 0.9064 - val_true_positives: 426.0000 - val_true_negatives: 426.0000 - val_false_positives: 44.0000 - val_false_negatives: 44.0000\n",
      "\n",
      "Epoch 00002: LearningRateScheduler reducing learning rate to 0.001.\n",
      "Epoch 2/50\n",
      "45/45 [==============================] - ETA: 0s - loss: 0.1465 - accuracy: 0.9504 - precision: 0.9504 - recall: 0.9504 - true_positives: 1340.0000 - true_negatives: 1340.0000 - false_positives: 70.0000 - false_negatives: 70.0000\n",
      "Epoch 00002: loss improved from 0.52252 to 0.14654, saving model to C:/Users/shubham.kumar/pactera_personal/Code_Work/gavin\\CNN_TL_Approach_1_using_SLGI_and_SFH_Aug_Datasets_feature_extraction\\CNN_TL_Approach_1_using_SLGI_and_SFH_Aug_Datasets_model.h5\n",
      "45/45 [==============================] - 2s 45ms/step - loss: 0.1465 - accuracy: 0.9504 - precision: 0.9504 - recall: 0.9504 - true_positives: 1340.0000 - true_negatives: 1340.0000 - false_positives: 70.0000 - false_negatives: 70.0000 - val_loss: 0.0880 - val_accuracy: 0.9702 - val_precision: 0.9702 - val_recall: 0.9702 - val_true_positives: 456.0000 - val_true_negatives: 456.0000 - val_false_positives: 14.0000 - val_false_negatives: 14.0000\n",
      "\n",
      "Epoch 00003: LearningRateScheduler reducing learning rate to 0.001.\n",
      "Epoch 3/50\n",
      "45/45 [==============================] - ETA: 0s - loss: 0.0641 - accuracy: 0.9851 - precision: 0.9851 - recall: 0.9851 - true_positives: 1389.0000 - true_negatives: 1389.0000 - false_positives: 21.0000 - false_negatives: 21.0000\n",
      "Epoch 00003: loss improved from 0.14654 to 0.06411, saving model to C:/Users/shubham.kumar/pactera_personal/Code_Work/gavin\\CNN_TL_Approach_1_using_SLGI_and_SFH_Aug_Datasets_feature_extraction\\CNN_TL_Approach_1_using_SLGI_and_SFH_Aug_Datasets_model.h5\n",
      "45/45 [==============================] - 2s 46ms/step - loss: 0.0641 - accuracy: 0.9851 - precision: 0.9851 - recall: 0.9851 - true_positives: 1389.0000 - true_negatives: 1389.0000 - false_positives: 21.0000 - false_negatives: 21.0000 - val_loss: 0.0486 - val_accuracy: 0.9894 - val_precision: 0.9894 - val_recall: 0.9894 - val_true_positives: 465.0000 - val_true_negatives: 465.0000 - val_false_positives: 5.0000 - val_false_negatives: 5.0000\n",
      "\n",
      "Epoch 00004: LearningRateScheduler reducing learning rate to 0.001.\n",
      "Epoch 4/50\n",
      "44/45 [============================>.] - ETA: 0s - loss: 0.0287 - accuracy: 0.9942 - precision: 0.9942 - recall: 0.9942 - true_positives: 1370.0000 - true_negatives: 1370.0000 - false_positives: 8.0000 - false_negatives: 8.0000\n",
      "Epoch 00004: loss improved from 0.06411 to 0.02855, saving model to C:/Users/shubham.kumar/pactera_personal/Code_Work/gavin\\CNN_TL_Approach_1_using_SLGI_and_SFH_Aug_Datasets_feature_extraction\\CNN_TL_Approach_1_using_SLGI_and_SFH_Aug_Datasets_model.h5\n",
      "45/45 [==============================] - 2s 45ms/step - loss: 0.0285 - accuracy: 0.9943 - precision: 0.9943 - recall: 0.9943 - true_positives: 1402.0000 - true_negatives: 1402.0000 - false_positives: 8.0000 - false_negatives: 8.0000 - val_loss: 0.0608 - val_accuracy: 0.9787 - val_precision: 0.9787 - val_recall: 0.9787 - val_true_positives: 460.0000 - val_true_negatives: 460.0000 - val_false_positives: 10.0000 - val_false_negatives: 10.0000\n",
      "\n",
      "Epoch 00005: LearningRateScheduler reducing learning rate to 0.001.\n",
      "Epoch 5/50\n",
      "45/45 [==============================] - ETA: 0s - loss: 0.0246 - accuracy: 0.9943 - precision: 0.9943 - recall: 0.9943 - true_positives: 1402.0000 - true_negatives: 1402.0000 - false_positives: 8.0000 - false_negatives: 8.0000\n",
      "Epoch 00005: loss improved from 0.02855 to 0.02457, saving model to C:/Users/shubham.kumar/pactera_personal/Code_Work/gavin\\CNN_TL_Approach_1_using_SLGI_and_SFH_Aug_Datasets_feature_extraction\\CNN_TL_Approach_1_using_SLGI_and_SFH_Aug_Datasets_model.h5\n",
      "45/45 [==============================] - 2s 42ms/step - loss: 0.0246 - accuracy: 0.9943 - precision: 0.9943 - recall: 0.9943 - true_positives: 1402.0000 - true_negatives: 1402.0000 - false_positives: 8.0000 - false_negatives: 8.0000 - val_loss: 0.0388 - val_accuracy: 0.9851 - val_precision: 0.9851 - val_recall: 0.9851 - val_true_positives: 463.0000 - val_true_negatives: 463.0000 - val_false_positives: 7.0000 - val_false_negatives: 7.0000\n",
      "\n",
      "Epoch 00006: LearningRateScheduler reducing learning rate to 0.001.\n",
      "Epoch 6/50\n",
      "44/45 [============================>.] - ETA: 0s - loss: 0.0211 - accuracy: 0.9964 - precision: 0.9964 - recall: 0.9964 - true_positives: 1373.0000 - true_negatives: 1373.0000 - false_positives: 5.0000 - false_negatives: 5.0000\n",
      "Epoch 00006: loss improved from 0.02457 to 0.02078, saving model to C:/Users/shubham.kumar/pactera_personal/Code_Work/gavin\\CNN_TL_Approach_1_using_SLGI_and_SFH_Aug_Datasets_feature_extraction\\CNN_TL_Approach_1_using_SLGI_and_SFH_Aug_Datasets_model.h5\n",
      "45/45 [==============================] - 2s 43ms/step - loss: 0.0208 - accuracy: 0.9965 - precision: 0.9965 - recall: 0.9965 - true_positives: 1405.0000 - true_negatives: 1405.0000 - false_positives: 5.0000 - false_negatives: 5.0000 - val_loss: 0.0363 - val_accuracy: 0.9851 - val_precision: 0.9851 - val_recall: 0.9851 - val_true_positives: 463.0000 - val_true_negatives: 463.0000 - val_false_positives: 7.0000 - val_false_negatives: 7.0000\n",
      "\n",
      "Epoch 00007: LearningRateScheduler reducing learning rate to 0.001.\n",
      "Epoch 7/50\n",
      "45/45 [==============================] - ETA: 0s - loss: 0.0251 - accuracy: 0.9901 - precision: 0.9901 - recall: 0.9901 - true_positives: 1396.0000 - true_negatives: 1396.0000 - false_positives: 14.0000 - false_negatives: 14.0000\n",
      "Epoch 00007: loss did not improve from 0.02078\n",
      "45/45 [==============================] - 2s 43ms/step - loss: 0.0251 - accuracy: 0.9901 - precision: 0.9901 - recall: 0.9901 - true_positives: 1396.0000 - true_negatives: 1396.0000 - false_positives: 14.0000 - false_negatives: 14.0000 - val_loss: 0.0544 - val_accuracy: 0.9851 - val_precision: 0.9851 - val_recall: 0.9851 - val_true_positives: 463.0000 - val_true_negatives: 463.0000 - val_false_positives: 7.0000 - val_false_negatives: 7.0000\n",
      "\n",
      "Epoch 00008: LearningRateScheduler reducing learning rate to 0.001.\n",
      "Epoch 8/50\n",
      "45/45 [==============================] - ETA: 0s - loss: 0.0387 - accuracy: 0.9844 - precision: 0.9844 - recall: 0.9844 - true_positives: 1388.0000 - true_negatives: 1388.0000 - false_positives: 22.0000 - false_negatives: 22.0000\n",
      "Epoch 00008: loss did not improve from 0.02078\n",
      "45/45 [==============================] - 2s 42ms/step - loss: 0.0387 - accuracy: 0.9844 - precision: 0.9844 - recall: 0.9844 - true_positives: 1388.0000 - true_negatives: 1388.0000 - false_positives: 22.0000 - false_negatives: 22.0000 - val_loss: 0.0438 - val_accuracy: 0.9830 - val_precision: 0.9830 - val_recall: 0.9830 - val_true_positives: 462.0000 - val_true_negatives: 462.0000 - val_false_positives: 8.0000 - val_false_negatives: 8.0000\n",
      "\n",
      "Epoch 00009: LearningRateScheduler reducing learning rate to 0.001.\n",
      "Epoch 9/50\n"
     ]
    },
    {
     "name": "stdout",
     "output_type": "stream",
     "text": [
      "44/45 [============================>.] - ETA: 0s - loss: 0.0072 - accuracy: 0.9985 - precision: 0.9985 - recall: 0.9985 - true_positives: 1376.0000 - true_negatives: 1376.0000 - false_positives: 2.0000 - false_negatives: 2.0000\n",
      "Epoch 00009: loss improved from 0.02078 to 0.00711, saving model to C:/Users/shubham.kumar/pactera_personal/Code_Work/gavin\\CNN_TL_Approach_1_using_SLGI_and_SFH_Aug_Datasets_feature_extraction\\CNN_TL_Approach_1_using_SLGI_and_SFH_Aug_Datasets_model.h5\n",
      "45/45 [==============================] - 2s 45ms/step - loss: 0.0071 - accuracy: 0.9986 - precision: 0.9986 - recall: 0.9986 - true_positives: 1408.0000 - true_negatives: 1408.0000 - false_positives: 2.0000 - false_negatives: 2.0000 - val_loss: 0.0237 - val_accuracy: 0.9851 - val_precision: 0.9851 - val_recall: 0.9851 - val_true_positives: 463.0000 - val_true_negatives: 463.0000 - val_false_positives: 7.0000 - val_false_negatives: 7.0000\n",
      "\n",
      "Epoch 00010: LearningRateScheduler reducing learning rate to 0.001.\n",
      "Epoch 10/50\n",
      "45/45 [==============================] - ETA: 0s - loss: 0.0037 - accuracy: 0.9993 - precision: 0.9993 - recall: 0.9993 - true_positives: 1409.0000 - true_negatives: 1409.0000 - false_positives: 1.0000 - false_negatives: 1.0000\n",
      "Epoch 00010: loss improved from 0.00711 to 0.00370, saving model to C:/Users/shubham.kumar/pactera_personal/Code_Work/gavin\\CNN_TL_Approach_1_using_SLGI_and_SFH_Aug_Datasets_feature_extraction\\CNN_TL_Approach_1_using_SLGI_and_SFH_Aug_Datasets_model.h5\n",
      "45/45 [==============================] - 2s 42ms/step - loss: 0.0037 - accuracy: 0.9993 - precision: 0.9993 - recall: 0.9993 - true_positives: 1409.0000 - true_negatives: 1409.0000 - false_positives: 1.0000 - false_negatives: 1.0000 - val_loss: 0.0320 - val_accuracy: 0.9915 - val_precision: 0.9915 - val_recall: 0.9915 - val_true_positives: 466.0000 - val_true_negatives: 466.0000 - val_false_positives: 4.0000 - val_false_negatives: 4.0000\n",
      "\n",
      "Epoch 00011: LearningRateScheduler reducing learning rate to 0.0001.\n",
      "Epoch 11/50\n",
      "45/45 [==============================] - ETA: 0s - loss: 0.0018 - accuracy: 1.0000 - precision: 1.0000 - recall: 1.0000 - true_positives: 1410.0000 - true_negatives: 1410.0000 - false_positives: 0.0000e+00 - false_negatives: 0.0000e+00\n",
      "Epoch 00011: loss improved from 0.00370 to 0.00179, saving model to C:/Users/shubham.kumar/pactera_personal/Code_Work/gavin\\CNN_TL_Approach_1_using_SLGI_and_SFH_Aug_Datasets_feature_extraction\\CNN_TL_Approach_1_using_SLGI_and_SFH_Aug_Datasets_model.h5\n",
      "45/45 [==============================] - 2s 45ms/step - loss: 0.0018 - accuracy: 1.0000 - precision: 1.0000 - recall: 1.0000 - true_positives: 1410.0000 - true_negatives: 1410.0000 - false_positives: 0.0000e+00 - false_negatives: 0.0000e+00 - val_loss: 0.0149 - val_accuracy: 0.9957 - val_precision: 0.9957 - val_recall: 0.9957 - val_true_positives: 468.0000 - val_true_negatives: 468.0000 - val_false_positives: 2.0000 - val_false_negatives: 2.0000\n",
      "\n",
      "Epoch 00012: LearningRateScheduler reducing learning rate to 0.0001.\n",
      "Epoch 12/50\n",
      "44/45 [============================>.] - ETA: 0s - loss: 7.6646e-04 - accuracy: 1.0000 - precision: 1.0000 - recall: 1.0000 - true_positives: 1378.0000 - true_negatives: 1378.0000 - false_positives: 0.0000e+00 - false_negatives: 0.0000e+00\n",
      "Epoch 00012: loss improved from 0.00179 to 0.00076, saving model to C:/Users/shubham.kumar/pactera_personal/Code_Work/gavin\\CNN_TL_Approach_1_using_SLGI_and_SFH_Aug_Datasets_feature_extraction\\CNN_TL_Approach_1_using_SLGI_and_SFH_Aug_Datasets_model.h5\n",
      "45/45 [==============================] - 2s 47ms/step - loss: 7.6428e-04 - accuracy: 1.0000 - precision: 1.0000 - recall: 1.0000 - true_positives: 1410.0000 - true_negatives: 1410.0000 - false_positives: 0.0000e+00 - false_negatives: 0.0000e+00 - val_loss: 0.0117 - val_accuracy: 0.9957 - val_precision: 0.9957 - val_recall: 0.9957 - val_true_positives: 468.0000 - val_true_negatives: 468.0000 - val_false_positives: 2.0000 - val_false_negatives: 2.0000\n",
      "\n",
      "Epoch 00013: LearningRateScheduler reducing learning rate to 0.0001.\n",
      "Epoch 13/50\n",
      "45/45 [==============================] - ETA: 0s - loss: 6.6887e-04 - accuracy: 1.0000 - precision: 1.0000 - recall: 1.0000 - true_positives: 1410.0000 - true_negatives: 1410.0000 - false_positives: 0.0000e+00 - false_negatives: 0.0000e+00\n",
      "Epoch 00013: loss improved from 0.00076 to 0.00067, saving model to C:/Users/shubham.kumar/pactera_personal/Code_Work/gavin\\CNN_TL_Approach_1_using_SLGI_and_SFH_Aug_Datasets_feature_extraction\\CNN_TL_Approach_1_using_SLGI_and_SFH_Aug_Datasets_model.h5\n",
      "45/45 [==============================] - 2s 45ms/step - loss: 6.6887e-04 - accuracy: 1.0000 - precision: 1.0000 - recall: 1.0000 - true_positives: 1410.0000 - true_negatives: 1410.0000 - false_positives: 0.0000e+00 - false_negatives: 0.0000e+00 - val_loss: 0.0112 - val_accuracy: 0.9957 - val_precision: 0.9957 - val_recall: 0.9957 - val_true_positives: 468.0000 - val_true_negatives: 468.0000 - val_false_positives: 2.0000 - val_false_negatives: 2.0000\n",
      "\n",
      "Epoch 00014: LearningRateScheduler reducing learning rate to 0.0001.\n",
      "Epoch 14/50\n",
      "44/45 [============================>.] - ETA: 0s - loss: 6.2487e-04 - accuracy: 1.0000 - precision: 1.0000 - recall: 1.0000 - true_positives: 1378.0000 - true_negatives: 1378.0000 - false_positives: 0.0000e+00 - false_negatives: 0.0000e+00\n",
      "Epoch 00014: loss improved from 0.00067 to 0.00062, saving model to C:/Users/shubham.kumar/pactera_personal/Code_Work/gavin\\CNN_TL_Approach_1_using_SLGI_and_SFH_Aug_Datasets_feature_extraction\\CNN_TL_Approach_1_using_SLGI_and_SFH_Aug_Datasets_model.h5\n",
      "45/45 [==============================] - 2s 44ms/step - loss: 6.1826e-04 - accuracy: 1.0000 - precision: 1.0000 - recall: 1.0000 - true_positives: 1410.0000 - true_negatives: 1410.0000 - false_positives: 0.0000e+00 - false_negatives: 0.0000e+00 - val_loss: 0.0110 - val_accuracy: 0.9957 - val_precision: 0.9957 - val_recall: 0.9957 - val_true_positives: 468.0000 - val_true_negatives: 468.0000 - val_false_positives: 2.0000 - val_false_negatives: 2.0000\n",
      "\n",
      "Epoch 00015: LearningRateScheduler reducing learning rate to 0.0001.\n",
      "Epoch 15/50\n",
      "45/45 [==============================] - ETA: 0s - loss: 5.7945e-04 - accuracy: 1.0000 - precision: 1.0000 - recall: 1.0000 - true_positives: 1410.0000 - true_negatives: 1410.0000 - false_positives: 0.0000e+00 - false_negatives: 0.0000e+00Restoring model weights from the end of the best epoch.\n",
      "\n",
      "Epoch 00015: loss improved from 0.00062 to 0.00058, saving model to C:/Users/shubham.kumar/pactera_personal/Code_Work/gavin\\CNN_TL_Approach_1_using_SLGI_and_SFH_Aug_Datasets_feature_extraction\\CNN_TL_Approach_1_using_SLGI_and_SFH_Aug_Datasets_model.h5\n",
      "45/45 [==============================] - 2s 43ms/step - loss: 5.7945e-04 - accuracy: 1.0000 - precision: 1.0000 - recall: 1.0000 - true_positives: 1410.0000 - true_negatives: 1410.0000 - false_positives: 0.0000e+00 - false_negatives: 0.0000e+00 - val_loss: 0.0108 - val_accuracy: 0.9957 - val_precision: 0.9957 - val_recall: 0.9957 - val_true_positives: 468.0000 - val_true_negatives: 468.0000 - val_false_positives: 2.0000 - val_false_negatives: 2.0000\n",
      "Epoch 00015: early stopping\n",
      "45/45 [==============================] - 1s 22ms/step - loss: 6.9096e-04 - accuracy: 1.0000 - precision: 1.0000 - recall: 1.0000 - true_positives: 1410.0000 - true_negatives: 1410.0000 - false_positives: 0.0000e+00 - false_negatives: 0.0000e+00\n",
      "15/15 [==============================] - 0s 22ms/step - loss: 0.0117 - accuracy: 0.9957 - precision: 0.9957 - recall: 0.9957 - true_positives: 468.0000 - true_negatives: 468.0000 - false_positives: 2.0000 - false_negatives: 2.0000 \n",
      "15/15 [==============================] - 0s 21ms/step - loss: 0.0126 - accuracy: 0.9936 - precision: 0.9936 - recall: 0.9936 - true_positives: 469.0000 - true_negatives: 469.0000 - false_positives: 3.0000 - false_negatives: 3.0000\n"
     ]
    }
   ],
   "source": [
    "with tf.device(\"/CPU:0\"):\n",
    "    start = time.time()\n",
    "    history = model.fit_generator(train_generator,\n",
    "                                        epochs = epoch,\n",
    "                                        verbose = 1,\n",
    "                                        callbacks = callback,\n",
    "                                        validation_data = validation_generator,\n",
    "                                        shuffle=True)\n",
    "\n",
    "    end = time.time()\n",
    "    duration = end-start\n",
    "\n",
    "train_score = model.evaluate(train_generator)\n",
    "val_score = model.evaluate(validation_generator)\n",
    "test_score = model.evaluate(test_generator)"
   ]
  },
  {
   "cell_type": "code",
   "execution_count": 29,
   "metadata": {},
   "outputs": [
    {
     "name": "stdout",
     "output_type": "stream",
     "text": [
      "Execution Time: 33.78666973114014 seconds\n"
     ]
    }
   ],
   "source": [
    "print(\"Execution Time: {} seconds\".format(duration))"
   ]
  },
  {
   "cell_type": "code",
   "execution_count": 30,
   "metadata": {},
   "outputs": [
    {
     "name": "stderr",
     "output_type": "stream",
     "text": [
      "The PostScript backend does not support transparency; partially transparent artists will be rendered opaque.\n",
      "The PostScript backend does not support transparency; partially transparent artists will be rendered opaque.\n"
     ]
    },
    {
     "data": {
      "image/png": "[encoded data removed]",
      "text/plain": [
       "<Figure size 432x288 with 1 Axes>"
      ]
     },
     "metadata": {
      "needs_background": "light"
     },
     "output_type": "display_data"
    },
    {
     "name": "stderr",
     "output_type": "stream",
     "text": [
      "The PostScript backend does not support transparency; partially transparent artists will be rendered opaque.\n",
      "The PostScript backend does not support transparency; partially transparent artists will be rendered opaque.\n"
     ]
    },
    {
     "data": {
      "image/png": "[encoded data removed]",
      "text/plain": [
       "<Figure size 432x288 with 1 Axes>"
      ]
     },
     "metadata": {
      "needs_background": "light"
     },
     "output_type": "display_data"
    }
   ],
   "source": [
    "acc=history.history['accuracy']\n",
    "val_acc=history.history['val_accuracy']\n",
    "loss=history.history['loss']\n",
    "val_loss=history.history['val_loss']\n",
    "epochs=range(len(acc))\n",
    "\n",
    "# Training and Validation accuracy vs Epochs\n",
    "plt.plot(epochs, acc, 'r', label='Training Accuracy')\n",
    "plt.plot(epochs, val_acc, 'b', label='Validation Accuracy')\n",
    "plt.xlabel(\"Epochs\")\n",
    "plt.ylabel(\"Accuracy\")\n",
    "plt.title('Training and validation accuracy vs Epochs')\n",
    "plt.legend()\n",
    "accuracy_fig_name = \"accuracy.eps\"\n",
    "plt.savefig(os.path.join(char, accuracy_fig_name))\n",
    "plt.show()\n",
    "\n",
    "\n",
    "# Training and Validation loss vs Epochs\n",
    "plt.plot(epochs, loss, 'r', label=\"Training Loss\")\n",
    "plt.plot(epochs, val_loss, 'b', label=\"Validation Loss\")\n",
    "plt.xlabel(\"Epochs\")\n",
    "plt.ylabel(\"Loss\")\n",
    "plt.title('Training and validation loss vs Epochs')\n",
    "plt.legend()\n",
    "loss_fig_name = \"loss.eps\"\n",
    "\n",
    "plt.savefig(os.path.join(char, loss_fig_name))\n",
    "plt.show()"
   ]
  },
  {
   "cell_type": "code",
   "execution_count": 31,
   "metadata": {},
   "outputs": [
    {
     "data": {
      "text/plain": [
       "[<matplotlib.lines.Line2D at 0x1eef9d5f8b0>]"
      ]
     },
     "execution_count": 31,
     "metadata": {},
     "output_type": "execute_result"
    },
    {
     "data": {
      "image/png": "[encoded data removed]",
      "text/plain": [
       "<Figure size 432x288 with 1 Axes>"
      ]
     },
     "metadata": {
      "needs_background": "light"
     },
     "output_type": "display_data"
    }
   ],
   "source": [
    "plt.plot(acc)\n",
    "plt.plot(val_acc)\n",
    "plt.plot(loss)\n",
    "plt.plot(val_loss)"
   ]
  },
  {
   "cell_type": "code",
   "execution_count": 32,
   "metadata": {},
   "outputs": [
    {
     "name": "stdout",
     "output_type": "stream",
     "text": [
      "The training accuracy is: 100.0 %\n",
      "The validation accuracy is: 99.57447052001953 %\n",
      "The test accuracy is: 99.36440587043762 %\n"
     ]
    }
   ],
   "source": [
    "training_accuracy = train_score[1]*100\n",
    "validation_accuracy = val_score[1]*100\n",
    "test_accuracy = test_score[1]*100\n",
    "\n",
    "print(\"The training accuracy is: \" + str(training_accuracy) + ' %')\n",
    "print(\"The validation accuracy is: \" + str(validation_accuracy) + ' %')\n",
    "print(\"The test accuracy is: \" + str(test_accuracy) + ' %')"
   ]
  },
  {
   "cell_type": "code",
   "execution_count": 33,
   "metadata": {},
   "outputs": [],
   "source": [
    "test_accuracy = test_score[1]*100\n",
    "test_precision = test_score[2]*100\n",
    "test_recall = test_score[3]*100\n",
    "tp = int(test_score[4])\n",
    "tn = int(test_score[5])\n",
    "fp = int(test_score[6])\n",
    "fn = int(test_score[7])\n",
    "\n",
    "f1 = 2*((test_precision*test_recall)/(test_precision+test_recall))\n",
    "sensitivity = (tp/(tp+fn))*100\n",
    "specificity = (tn/(tn+fp))*100"
   ]
  },
  {
   "cell_type": "code",
   "execution_count": 34,
   "metadata": {},
   "outputs": [
    {
     "name": "stdout",
     "output_type": "stream",
     "text": [
      "Test Accuracy: 99.36440587043762\n",
      "Test Precision: 99.36440587043762\n",
      "Test Recall: 99.36440587043762\n",
      "True Positive: 469\n",
      "Test Negetive: 469\n",
      "False Positive: 3\n",
      "False Negetive: 3\n",
      "F1-score: 99.36440587043762\n",
      "Sensitivity: 99.36440677966102\n",
      "Specificity: 99.36440677966102\n"
     ]
    }
   ],
   "source": [
    "print(\"Test Accuracy: {}\".format(test_accuracy))\n",
    "print(\"Test Precision: {}\".format(test_precision))\n",
    "print(\"Test Recall: {}\".format(test_recall))\n",
    "print(\"True Positive: {}\".format(tp))\n",
    "print(\"Test Negetive: {}\".format(tn))\n",
    "print(\"False Positive: {}\".format(fp))\n",
    "print(\"False Negetive: {}\".format(fn))\n",
    "print(\"F1-score: {}\".format(f1))\n",
    "print(\"Sensitivity: {}\".format(sensitivity))\n",
    "print(\"Specificity: {}\".format(specificity))"
   ]
  },
  {
   "cell_type": "code",
   "execution_count": 35,
   "metadata": {},
   "outputs": [],
   "source": [
    "test_class_list = []\n",
    "for test_name in os.listdir(TESTING_DIR):\n",
    "    test = os.path.join(TESTING_DIR,test_name)\n",
    "    test_class_list.append(test)\n",
    "test_class_list.sort()"
   ]
  },
  {
   "cell_type": "code",
   "execution_count": 36,
   "metadata": {},
   "outputs": [],
   "source": [
    "def max_pred(pred):\n",
    "    pred_max = np.argmax(pred)\n",
    "    return pred_max"
   ]
  },
  {
   "cell_type": "code",
   "execution_count": 37,
   "metadata": {},
   "outputs": [],
   "source": [
    "y_true = test_generator.classes\n",
    "labels = validation_generator.class_indices"
   ]
  },
  {
   "cell_type": "code",
   "execution_count": 38,
   "metadata": {},
   "outputs": [
    {
     "name": "stdout",
     "output_type": "stream",
     "text": [
      "Calculating CLASSIFICATION REPORT..........:\n",
      "              precision    recall  f1-score   support\n",
      "\n",
      "  SFH Sign 1       0.97      1.00      0.98       236\n",
      "  SFH Sign 2       1.00      0.97      0.98       236\n",
      "\n",
      "    accuracy                           0.98       472\n",
      "   macro avg       0.98      0.98      0.98       472\n",
      "weighted avg       0.98      0.98      0.98       472\n",
      "\n",
      "\n",
      "Calculating CONFUSION MATRIX, SENSITIVITY (RECALL), PRECISION, SPECIFICITY & F1-SCORE..........:\n",
      "\n",
      "Confusion Matrix\n",
      "[[236   0]\n",
      " [  8 228]]\n",
      "\n",
      "sensitivity or recall = 1.0000\n",
      "precision = 0.9672\n",
      "specificity = 0.9661\n",
      "f1-score = 0.9833\n"
     ]
    }
   ],
   "source": [
    "from sklearn.metrics import classification_report\n",
    "from sklearn.metrics import confusion_matrix\n",
    "\n",
    "\n",
    "y_pred = []\n",
    "for i in range(2):\n",
    "    for filename in os.listdir(test_class_list[i]):\n",
    "        file = os.path.join(test_class_list[i], filename)\n",
    "        img = image.load_img(file, target_size=(32,32))\n",
    "        x = image.img_to_array(img)\n",
    "        x = np.expand_dims(x, axis=0)\n",
    "\n",
    "        images = np.vstack([x])\n",
    "\n",
    "        pred = model.predict(images, batch_size = batch_size)\n",
    "        pred_max = max_pred(pred)\n",
    "        \n",
    "        y_pred.append(pred_max)\n",
    "\n",
    "print(\"Calculating CLASSIFICATION REPORT..........:\")\n",
    "classification_report = classification_report(y_true, y_pred, target_names=labels)\n",
    "print(classification_report)\n",
    "\n",
    "print(\"\\nCalculating CONFUSION MATRIX, SENSITIVITY (RECALL), PRECISION, SPECIFICITY & F1-SCORE..........:\")\n",
    "cm = confusion_matrix(y_true, y_pred)\n",
    "\n",
    "print(\"\\nConfusion Matrix\")\n",
    "with np.printoptions(threshold=np.inf):\n",
    "    print(cm)\n",
    "\n",
    "total = sum(sum(cm))\n",
    "\n",
    "recall = cm[0, 0] / (cm[0, 0] + cm[0, 1])\n",
    "precision = cm[0, 0] / (cm[0, 0] + cm[1, 0])\n",
    "specificity = cm[1, 1] / (cm[1, 0] + cm[1, 1])\n",
    "f1 = 2*((precision*recall)/(precision+recall))\n",
    "\n",
    "print(\"\\nsensitivity or recall = {:.4f}\".format(recall))\n",
    "print(\"precision = {:.4f}\".format(precision))\n",
    "print(\"specificity = {:.4f}\".format(specificity))\n",
    "print(\"f1-score = {:.4f}\".format(f1))"
   ]
  },
  {
   "cell_type": "code",
   "execution_count": 39,
   "metadata": {},
   "outputs": [],
   "source": [
    "# Referenced from https://www.kaggle.com/grfiv4/plot-a-confusion-matrix\n",
    "\n",
    "def plot_confusion_matrix(cm,\n",
    "                          target_names,\n",
    "                          title='Confusion matrix',\n",
    "                          cmap=None,\n",
    "                          normalize=True):\n",
    "\n",
    "    import itertools\n",
    "\n",
    "    accuracy = np.trace(cm) / float(np.sum(cm))\n",
    "    misclass = 1 - accuracy\n",
    "\n",
    "    if cmap is None:\n",
    "        cmap = plt.get_cmap('Blues')\n",
    "\n",
    "    plt.figure(figsize=(8, 6))\n",
    "    plt.grid(False)\n",
    "    plt.imshow(cm, interpolation='nearest', cmap=cmap)\n",
    "    plt.title(title)\n",
    "    plt.colorbar()\n",
    "\n",
    "    if target_names is not None:\n",
    "        tick_marks = np.arange(len(target_names))\n",
    "        plt.xticks(tick_marks, target_names, rotation=45)\n",
    "        plt.yticks(tick_marks, target_names)\n",
    "\n",
    "    if normalize:\n",
    "        cm = cm.astype('float') / cm.sum(axis=1)[:, np.newaxis]\n",
    "\n",
    "\n",
    "    thresh = cm.max() / 1.5 if normalize else cm.max() / 2\n",
    "    for i, j in itertools.product(range(cm.shape[0]), range(cm.shape[1])):\n",
    "        if normalize:\n",
    "            plt.text(j, i, \"{:0.4f}\".format(cm[i, j]),\n",
    "                     horizontalalignment=\"center\",\n",
    "                     color=\"white\" if cm[i, j] > thresh else \"black\")\n",
    "        else:\n",
    "            plt.text(j, i, \"{:,}\".format(cm[i, j]),\n",
    "                     horizontalalignment=\"center\",\n",
    "                     color=\"white\" if cm[i, j] > thresh else \"black\")\n",
    "\n",
    "\n",
    "    plt.tight_layout()\n",
    "    plt.ylabel('True label')\n",
    "    plt.xlabel('Predicted label\\naccuracy={:0.4f}; misclass={:0.4f}'.format(accuracy, misclass))\n",
    "    plt.show()"
   ]
  },
  {
   "cell_type": "code",
   "execution_count": 40,
   "metadata": {},
   "outputs": [
    {
     "data": {
      "image/png": "[encoded data removed]",
      "text/plain": [
       "<Figure size 576x432 with 2 Axes>"
      ]
     },
     "metadata": {
      "needs_background": "light"
     },
     "output_type": "display_data"
    }
   ],
   "source": [
    "plot_confusion_matrix(cm, \n",
    "                      normalize    = False,\n",
    "                      target_names = ['SFH Sign 1', 'SFH Sign 2'],\n",
    "                      title        = \"CNN TL Approach 1 using SLGI and SFH Aug Datasets Confusion Matrix\")"
   ]
  },
  {
   "cell_type": "code",
   "execution_count": null,
   "metadata": {},
   "outputs": [],
   "source": []
  }
 ],
 "metadata": {
  "kernelspec": {
   "display_name": "Python 3",
   "language": "python",
   "name": "python3"
  },
  "language_info": {
   "codemirror_mode": {
    "name": "ipython",
    "version": 3
   },
   "file_extension": ".py",
   "mimetype": "text/x-python",
   "name": "python",
   "nbconvert_exporter": "python",
   "pygments_lexer": "ipython3",
   "version": "3.8.5"
  }
 },
 "nbformat": 4,
 "nbformat_minor": 4
}
