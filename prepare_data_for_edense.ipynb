{
 "cells": [
  {
   "cell_type": "code",
   "execution_count": 1,
   "metadata": {},
   "outputs": [
    {
     "name": "stderr",
     "output_type": "stream",
     "text": [
      "C:\\Users\\shubham.kumar\\anaconda3\\lib\\site-packages\\numpy\\_distributor_init.py:30: UserWarning: loaded more than 1 DLL from .libs:\n",
      "C:\\Users\\shubham.kumar\\anaconda3\\lib\\site-packages\\numpy\\.libs\\libopenblas.PYQHXLVVQ7VESDPUVUADXEVJOBGHJPAY.gfortran-win_amd64.dll\n",
      "C:\\Users\\shubham.kumar\\anaconda3\\lib\\site-packages\\numpy\\.libs\\libopenblas.QVLO2T66WEPI7JZ63PS3HMOHFEY472BC.gfortran-win_amd64.dll\n",
      "  warnings.warn(\"loaded more than 1 DLL from .libs:\"\n"
     ]
    }
   ],
   "source": [
    "import numpy as np\n",
    "import os\n",
    "import cv2\n",
    "import scipy.io as sio"
   ]
  },
  {
   "cell_type": "code",
   "execution_count": 2,
   "metadata": {},
   "outputs": [],
   "source": [
    "#!pip install opencv-python"
   ]
  },
  {
   "cell_type": "code",
   "execution_count": 3,
   "metadata": {},
   "outputs": [],
   "source": [
    "data_dir = 'archive/Gesture Image Data/'"
   ]
  },
  {
   "cell_type": "code",
   "execution_count": 4,
   "metadata": {},
   "outputs": [],
   "source": [
    "#helper function to load_dataset of 50*50 pixels\n",
    "def load_dataset(directory):\n",
    "    images = []\n",
    "    labels = []\n",
    "    for idx,label in enumerate(uniq_labels):\n",
    "        for file in os.listdir(directory + label):\n",
    "            filepath = directory + label +\"/\" + file\n",
    "            img = cv2.resize(cv2.imread(filepath),(28,28))\n",
    "            img = cv2.cvtColor(img, cv2.COLOR_BGR2GRAY)\n",
    "            images.append(img)\n",
    "            labels.append(idx)\n",
    "    images = np.asarray(images)\n",
    "    labels = np.asarray(labels)\n",
    "    return images, labels"
   ]
  },
  {
   "cell_type": "code",
   "execution_count": 5,
   "metadata": {},
   "outputs": [
    {
     "name": "stdout",
     "output_type": "stream",
     "text": [
      "(55500, 28, 28) (55500,)\n"
     ]
    }
   ],
   "source": [
    "files = ['R',\n",
    " 'U',\n",
    " '9',\n",
    " '0',\n",
    " '7',\n",
    " 'I',\n",
    " 'N',\n",
    " 'G',\n",
    " '6',\n",
    " 'Z',\n",
    " '1',\n",
    " '8',\n",
    " 'T',\n",
    " 'S',\n",
    " 'A',\n",
    " '_',\n",
    " 'F',\n",
    " 'O',\n",
    " 'H',\n",
    " 'M',\n",
    " 'J',\n",
    " 'C',\n",
    " 'D',\n",
    " 'V',\n",
    " 'Q',\n",
    " '4',\n",
    " 'X',\n",
    " '3',\n",
    " 'E',\n",
    " 'B',\n",
    " 'K',\n",
    " 'L',\n",
    " '2',\n",
    " 'Y',\n",
    " '5',\n",
    " 'P',\n",
    " 'W']\n",
    "uniq_labels = sorted(files)\n",
    "X_pre, Y_pre = load_dataset(data_dir)\n",
    "print(X_pre.shape, Y_pre.shape)"
   ]
  },
  {
   "cell_type": "code",
   "execution_count": 6,
   "metadata": {},
   "outputs": [],
   "source": [
    "X_pre = X_pre.swapaxes(0,2)"
   ]
  },
  {
   "cell_type": "code",
   "execution_count": 7,
   "metadata": {},
   "outputs": [
    {
     "data": {
      "text/plain": [
       "array([[[ 98,  96,  96, ..., 165, 164, 165],\n",
       "        [ 97,  95,  99, ..., 166, 165, 165],\n",
       "        [ 97,  91,  96, ..., 165, 166, 168],\n",
       "        ...,\n",
       "        [ 87,  90,  87, ..., 111, 108, 108],\n",
       "        [ 86,  88,  86, ..., 109, 106, 106],\n",
       "        [ 85,  88,  89, ..., 116, 116, 116]],\n",
       "\n",
       "       [[ 99,  97,  97, ..., 166, 167, 165],\n",
       "        [ 97,  94,  98, ..., 167, 168, 166],\n",
       "        [ 94,  95,  93, ..., 167, 168, 166],\n",
       "        ...,\n",
       "        [ 87,  88,  86, ..., 113, 114, 115],\n",
       "        [ 87,  87,  91, ..., 115, 116, 117],\n",
       "        [ 87,  86,  87, ..., 111, 112, 111]],\n",
       "\n",
       "       [[ 97,  93,  97, ..., 166, 167, 166],\n",
       "        [ 97,  95, 100, ..., 168, 167, 166],\n",
       "        [ 95,  95,  97, ..., 167, 167, 168],\n",
       "        ...,\n",
       "        [ 88,  88,  84, ..., 118, 119, 119],\n",
       "        [ 86,  89,  87, ..., 111, 108, 110],\n",
       "        [ 89,  89,  90, ..., 105, 103, 104]],\n",
       "\n",
       "       ...,\n",
       "\n",
       "       [[115, 113, 113, ..., 175, 175, 177],\n",
       "        [113, 110, 114, ..., 176, 179, 176],\n",
       "        [115, 112, 112, ..., 176, 177, 177],\n",
       "        ...,\n",
       "        [ 90,  93,  91, ..., 189, 188, 188],\n",
       "        [ 88,  88,  90, ..., 189, 187, 188],\n",
       "        [ 88,  90,  88, ..., 188, 187, 188]],\n",
       "\n",
       "       [[116, 113, 113, ..., 175, 175, 174],\n",
       "        [112, 114, 114, ..., 175, 176, 175],\n",
       "        [116, 114, 114, ..., 175, 173, 175],\n",
       "        ...,\n",
       "        [ 89,  88,  89, ..., 189, 188, 189],\n",
       "        [ 90,  92,  92, ..., 189, 189, 187],\n",
       "        [ 88,  91,  89, ..., 186, 188, 187]],\n",
       "\n",
       "       [[117, 114, 115, ..., 175, 174, 175],\n",
       "        [116, 114, 115, ..., 175, 174, 174],\n",
       "        [113, 110, 115, ..., 174, 176, 175],\n",
       "        ...,\n",
       "        [ 93,  90,  91, ..., 189, 189, 189],\n",
       "        [ 91,  90,  89, ..., 187, 187, 188],\n",
       "        [ 90,  91,  89, ..., 187, 187, 187]]], dtype=uint8)"
      ]
     },
     "execution_count": 7,
     "metadata": {},
     "output_type": "execute_result"
    }
   ],
   "source": [
    "X_pre"
   ]
  },
  {
   "cell_type": "code",
   "execution_count": 8,
   "metadata": {},
   "outputs": [],
   "source": [
    "n_values = np.max(Y_pre) + 1\n",
    "Y_pre = np.eye(n_values)[Y_pre]\n",
    "\n",
    "Y_pre = Y_pre.swapaxes(0,1)"
   ]
  },
  {
   "cell_type": "code",
   "execution_count": 9,
   "metadata": {},
   "outputs": [
    {
     "data": {
      "text/plain": [
       "37000.0"
      ]
     },
     "execution_count": 9,
     "metadata": {},
     "output_type": "execute_result"
    }
   ],
   "source": [
    "#55500/3\n",
    "\n",
    "18500.0*2"
   ]
  },
  {
   "cell_type": "code",
   "execution_count": 10,
   "metadata": {},
   "outputs": [],
   "source": [
    "\n",
    "\n",
    "'''\n",
    "f1_images = X_pre[:,:,:18500]\n",
    "s2_images = X_pre[:,:,18500:37000] \n",
    "t3_images = X_pre[:,:,37000:55500]\n",
    "\n",
    "f1_labels = Y_pre[:,:18500]\n",
    "s2_labels = Y_pre[:,18500:37000]\n",
    "t3_labels = Y_pre[:,37000:55500]\n",
    "\n",
    "'''\n",
    "#using only few now\n",
    "f1_images = X_pre[:,:,:1000]\n",
    "s2_images = X_pre[:,:,1000:2000] \n",
    "t3_images = X_pre[:,:,2000:3000]\n",
    "\n",
    "f1_labels = Y_pre[:,:1000]\n",
    "s2_labels = Y_pre[:,1000:2000]\n",
    "t3_labels = Y_pre[:,2000:3000]\n",
    "\n",
    "try:\n",
    "    os.mkdir('CrossVal')\n",
    "except:\n",
    "    pass\n",
    "\n",
    "os.chdir('CrossVal')\n",
    "\n",
    "try:\n",
    "    os.mkdir('D2')\n",
    "except:\n",
    "    pass\n",
    "\n",
    "os.chdir('D2')\n",
    "\n",
    "#1st fold\n",
    "Train_Images = np.concatenate((s2_images,t3_images), axis=2)\n",
    "Train_Labels = np.concatenate((s2_labels,t3_labels), axis=1) \n",
    "Test_Images = f1_images\n",
    "Test_Labels = f1_labels\n",
    "sio.savemat('D2_1st_fold_train.mat', {'trainImages':Train_Images, 'trainLabels2': Train_Labels},do_compression=True)\n",
    "sio.savemat('D2_1st_fold_test.mat', {'testImages':Test_Images, 'testLabels2': Test_Labels},do_compression=True)\n",
    "\n",
    "#2nd fold\n",
    "Train_Images = np.concatenate((f1_images,t3_images), axis=2)\n",
    "Train_Labels = np.concatenate((f1_labels,t3_labels), axis=1) \n",
    "Test_Images = s2_images\n",
    "Test_Labels = s2_labels\n",
    "sio.savemat('D2_2nd_fold_train.mat', {'trainImages':Train_Images, 'trainLabels2': Train_Labels},do_compression=True)\n",
    "sio.savemat('D2_2nd_fold_test.mat', {'testImages':Test_Images, 'testLabels2': Test_Labels},do_compression=True)\n",
    "\n",
    "#3rd fold\n",
    "Train_Images = np.concatenate((f1_images,s2_images), axis=2)\n",
    "Train_Labels = np.concatenate((f1_labels,s2_labels), axis=1) \n",
    "Test_Images = t3_images\n",
    "Test_Labels = t3_labels\n",
    "\n",
    "\n",
    "sio.savemat('D2_3rd_fold_train.mat', {'trainImages':Train_Images, 'trainLabels2': Train_Labels},do_compression=True)\n",
    "sio.savemat('D2_3rd_fold_test.mat', {'testImages':Test_Images, 'testLabels2': Test_Labels},do_compression=True)"
   ]
  },
  {
   "cell_type": "code",
   "execution_count": null,
   "metadata": {},
   "outputs": [],
   "source": []
  },
  {
   "cell_type": "code",
   "execution_count": 11,
   "metadata": {},
   "outputs": [
    {
     "data": {
      "text/plain": [
       "(28, 28, 2000)"
      ]
     },
     "execution_count": 11,
     "metadata": {},
     "output_type": "execute_result"
    }
   ],
   "source": [
    "Train_Images.shape"
   ]
  },
  {
   "cell_type": "code",
   "execution_count": 12,
   "metadata": {},
   "outputs": [
    {
     "data": {
      "text/plain": [
       "(37, 2000)"
      ]
     },
     "execution_count": 12,
     "metadata": {},
     "output_type": "execute_result"
    }
   ],
   "source": [
    "Train_Labels.shape"
   ]
  },
  {
   "cell_type": "code",
   "execution_count": null,
   "metadata": {},
   "outputs": [],
   "source": []
  }
 ],
 "metadata": {
  "kernelspec": {
   "display_name": "Python 3",
   "language": "python",
   "name": "python3"
  },
  "language_info": {
   "codemirror_mode": {
    "name": "ipython",
    "version": 3
   },
   "file_extension": ".py",
   "mimetype": "text/x-python",
   "name": "python",
   "nbconvert_exporter": "python",
   "pygments_lexer": "ipython3",
   "version": "3.8.5"
  }
 },
 "nbformat": 4,
 "nbformat_minor": 5
}
