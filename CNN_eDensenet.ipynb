{
  "nbformat": 4,
  "nbformat_minor": 0,
  "metadata": {
    "accelerator": "GPU",
    "colab": {
      "name": "CNN_eDensenet.ipynb",
      "provenance": [],
      "collapsed_sections": []
    },
    "kernelspec": {
      "display_name": "Python 3",
      "language": "python",
      "name": "python3"
    },
    "language_info": {
      "codemirror_mode": {
        "name": "ipython",
        "version": 3
      },
      "file_extension": ".py",
      "mimetype": "text/x-python",
      "name": "python",
      "nbconvert_exporter": "python",
      "pygments_lexer": "ipython3",
      "version": "3.8.5"
    }
  },
  "cells": [
    {
      "cell_type": "code",
      "metadata": {
        "colab": {
          "base_uri": "https://localhost:8080/"
        },
        "id": "YMRk8CCDfKPd",
        "outputId": "69c6b200-cc81-4982-e8af-cbb155e8e169"
      },
      "source": [
        "from google.colab import drive\n",
        "drive.mount('/content/drive')"
      ],
      "execution_count": 1,
      "outputs": [
        {
          "output_type": "stream",
          "text": [
            "Mounted at /content/drive\n"
          ],
          "name": "stdout"
        }
      ]
    },
    {
      "cell_type": "code",
      "metadata": {
        "id": "cXJGzxFHh9bR"
      },
      "source": [
        "import os"
      ],
      "execution_count": 2,
      "outputs": []
    },
    {
      "cell_type": "code",
      "metadata": {
        "colab": {
          "base_uri": "https://localhost:8080/"
        },
        "id": "DcIr1DnIiaM0",
        "outputId": "29e6fc3e-f65a-470f-f107-eaf48453dc04"
      },
      "source": [
        "%cd /content/drive/MyDrive/"
      ],
      "execution_count": 3,
      "outputs": [
        {
          "output_type": "stream",
          "text": [
            "/content/drive/MyDrive\n"
          ],
          "name": "stdout"
        }
      ]
    },
    {
      "cell_type": "code",
      "metadata": {
        "colab": {
          "base_uri": "https://localhost:8080/"
        },
        "id": "mpScNmBdifO9",
        "outputId": "897a09e7-8452-4274-bb0f-ae7d0c1e78a2"
      },
      "source": [
        "os.listdir()"
      ],
      "execution_count": 4,
      "outputs": [
        {
          "output_type": "execute_result",
          "data": {
            "text/plain": [
              "['How to get started with Drive.pdf',\n",
              " 't0.gdoc',\n",
              " 'Video',\n",
              " 'vedio2',\n",
              " 'vedios 2',\n",
              " 'Xss_DOMbased',\n",
              " 'Video.guru',\n",
              " 'tensorflow_sasi.zip',\n",
              " 'modified Final Analysis June 28 season 17-19 - kopie.ipynb',\n",
              " 'Colab Notebooks',\n",
              " 'songs_download',\n",
              " 'CNN using SLGI Dataset.ipynb',\n",
              " 'eDense']"
            ]
          },
          "metadata": {
            "tags": []
          },
          "execution_count": 4
        }
      ]
    },
    {
      "cell_type": "code",
      "metadata": {
        "colab": {
          "base_uri": "https://localhost:8080/"
        },
        "id": "C3rb-KePigoQ",
        "outputId": "01e7f214-f94a-4739-9cbd-ec26c82de7db"
      },
      "source": [
        "#os.mkdir('eDense')\n",
        "\n",
        "#%cd eDense ##place CrossVal in this folder"
      ],
      "execution_count": 5,
      "outputs": [
        {
          "output_type": "stream",
          "text": [
            "[Errno 2] No such file or directory: 'eDense ##place CrossVal in this folder'\n",
            "/content/drive/MyDrive\n"
          ],
          "name": "stdout"
        }
      ]
    },
    {
      "cell_type": "code",
      "metadata": {
        "id": "-FZOd21DsmHI"
      },
      "source": [
        "os.chdir('eDense')"
      ],
      "execution_count": 6,
      "outputs": []
    },
    {
      "cell_type": "code",
      "metadata": {
        "colab": {
          "base_uri": "https://localhost:8080/"
        },
        "id": "swe5pmUeijv7",
        "outputId": "ac4cf93d-4cf5-465b-f4ba-c0aef2361430"
      },
      "source": [
        "ls -lrt"
      ],
      "execution_count": 7,
      "outputs": [
        {
          "output_type": "stream",
          "text": [
            "total 4\n",
            "drwx------ 2 root root 4096 Aug  8 16:51 \u001b[0m\u001b[01;34mCrossVal\u001b[0m/\n"
          ],
          "name": "stdout"
        }
      ]
    },
    {
      "cell_type": "code",
      "metadata": {
        "colab": {
          "base_uri": "https://localhost:8080/"
        },
        "id": "N0pnCtNzilaY",
        "outputId": "eb3706c4-da0c-4740-bebe-1e328c872f38"
      },
      "source": [
        "! git clone https://github.com/YongSoonTan/EDenseNet.git"
      ],
      "execution_count": 8,
      "outputs": [
        {
          "output_type": "stream",
          "text": [
            "Cloning into 'EDenseNet'...\n",
            "remote: Enumerating objects: 94, done.\u001b[K\n",
            "remote: Counting objects: 100% (33/33), done.\u001b[K\n",
            "remote: Compressing objects: 100% (33/33), done.\u001b[K\n",
            "remote: Total 94 (delta 13), reused 0 (delta 0), pack-reused 61\u001b[K\n",
            "Unpacking objects: 100% (94/94), done.\n"
          ],
          "name": "stdout"
        }
      ]
    },
    {
      "cell_type": "code",
      "metadata": {
        "id": "J6pVKFGmi2wS"
      },
      "source": [
        "mv CrossVal EDenseNet/Tensorflow\\ 2\\ Implementation"
      ],
      "execution_count": 9,
      "outputs": []
    },
    {
      "cell_type": "code",
      "metadata": {
        "colab": {
          "base_uri": "https://localhost:8080/"
        },
        "id": "9ZLxELxfjpab",
        "outputId": "55401971-6923-4d63-d2ee-d76290a39784"
      },
      "source": [
        "%cd EDenseNet/Tensorflow\\ 2\\ Implementation"
      ],
      "execution_count": 12,
      "outputs": [
        {
          "output_type": "stream",
          "text": [
            "/content/drive/My Drive/eDense/EDenseNet/Tensorflow 2 Implementation\n"
          ],
          "name": "stdout"
        }
      ]
    },
    {
      "cell_type": "code",
      "metadata": {
        "colab": {
          "base_uri": "https://localhost:8080/"
        },
        "id": "A1Eb_oN2jNvh",
        "outputId": "40966ad8-8e93-4496-adfa-91fc15100f54"
      },
      "source": [
        "import tensorflow as tf\n",
        "from tensorflow.keras.layers import Dense, Flatten, Conv2D, BatchNormalization,GlobalAveragePooling2D, MaxPool2D, Dropout, ReLU, AveragePooling2D\n",
        "from tensorflow.keras import Model\n",
        "from create_tf_dataset import create_tf_dataset\n",
        "from EDenseNet_cls import EDenseNet as EDenseNet\n",
        "print(tf.__version__)\n",
        "seed_value= 1\n",
        "tf.random.set_seed(seed_value)"
      ],
      "execution_count": 13,
      "outputs": [
        {
          "output_type": "stream",
          "text": [
            "2.5.0\n"
          ],
          "name": "stdout"
        }
      ]
    },
    {
      "cell_type": "code",
      "metadata": {
        "id": "NCKcKnzgtMZx"
      },
      "source": [
        "#! mv CrossVal/CrossVal/* Crossval"
      ],
      "execution_count": 16,
      "outputs": []
    },
    {
      "cell_type": "code",
      "metadata": {
        "colab": {
          "base_uri": "https://localhost:8080/",
          "height": 35
        },
        "id": "KuziK7n3uYRT",
        "outputId": "fbb33b47-bef8-4022-f3a6-489602f635e5"
      },
      "source": [
        "os.getcwd()"
      ],
      "execution_count": 19,
      "outputs": [
        {
          "output_type": "execute_result",
          "data": {
            "application/vnd.google.colaboratory.intrinsic+json": {
              "type": "string"
            },
            "text/plain": [
              "'/content/drive/MyDrive/eDense/EDenseNet/Tensorflow 2 Implementation'"
            ]
          },
          "metadata": {
            "tags": []
          },
          "execution_count": 19
        }
      ]
    },
    {
      "cell_type": "code",
      "metadata": {
        "colab": {
          "base_uri": "https://localhost:8080/"
        },
        "id": "c-_FVnO1jd24",
        "outputId": "72211e92-ecac-436d-837a-5461b415274a"
      },
      "source": [
        "dataset_index = 2\n",
        "data_type = 'original' #'original' or 'augmented'\n",
        "fold = 1\n",
        "batch_size = 8\n",
        "test_batch_size = 16 # Use smaller value if GPU memory is small\n",
        "epochs_to_train = 5\n",
        "train_ds, test_ds = create_tf_dataset(dataset_index, data_type, fold)\n",
        "train_ds = train_ds.batch(batch_size)\n",
        "test_ds = test_ds.batch(batch_size)"
      ],
      "execution_count": 20,
      "outputs": [
        {
          "output_type": "stream",
          "text": [
            "Debugging, path:  CrossVal/D2\n"
          ],
          "name": "stdout"
        }
      ]
    },
    {
      "cell_type": "code",
      "metadata": {
        "id": "h4d8jHAwj6Yl"
      },
      "source": [
        "class Model_Parameters:\n",
        "  num_layers = 1\n",
        "  growth_rate = 24\n",
        "  filter_size = 3\n",
        "  fm_1st_layer = 32\n",
        "  bottleneck = 4\n",
        "  dropout_prob = 0.2 # not 0.8, 0.8 drops 80% of the elements\n",
        "  learn_rate = 0.001\n",
        "  num_classes = 37\n",
        "    \n",
        "param = Model_Parameters()\n",
        "model = EDenseNet(param, name=\"EDenseNet\")"
      ],
      "execution_count": 21,
      "outputs": []
    },
    {
      "cell_type": "code",
      "metadata": {
        "colab": {
          "base_uri": "https://localhost:8080/"
        },
        "id": "EidXJN5MkOJU",
        "outputId": "bb6d4a06-e26b-4b70-a9bc-9537ea2ba8b6"
      },
      "source": [
        "model.model().summary()"
      ],
      "execution_count": 22,
      "outputs": [
        {
          "output_type": "stream",
          "text": [
            "Model: \"model\"\n",
            "__________________________________________________________________________________________________\n",
            "Layer (type)                    Output Shape         Param #     Connected to                     \n",
            "==================================================================================================\n",
            "input_1 (InputLayer)            [(None, 28, 28, 1)]  0                                            \n",
            "__________________________________________________________________________________________________\n",
            "conv2d (Conv2D)                 (None, 28, 28, 32)   288         input_1[0][0]                    \n",
            "__________________________________________________________________________________________________\n",
            "batch_normalization (BatchNorma (None, 28, 28, 32)   128         conv2d[0][0]                     \n",
            "__________________________________________________________________________________________________\n",
            "re_lu (ReLU)                    (None, 28, 28, 32)   0           batch_normalization[0][0]        \n",
            "__________________________________________________________________________________________________\n",
            "conv2d_1 (Conv2D)               (None, 28, 28, 24)   6912        re_lu[0][0]                      \n",
            "__________________________________________________________________________________________________\n",
            "dropout (Dropout)               (None, 28, 28, 24)   0           conv2d_1[0][0]                   \n",
            "__________________________________________________________________________________________________\n",
            "concatenate (Concatenate)       (None, 28, 28, 56)   0           conv2d[0][0]                     \n",
            "                                                                 dropout[0][0]                    \n",
            "__________________________________________________________________________________________________\n",
            "batch_normalization_3 (BatchNor (None, 28, 28, 56)   224         concatenate[0][0]                \n",
            "__________________________________________________________________________________________________\n",
            "re_lu_3 (ReLU)                  (None, 28, 28, 56)   0           batch_normalization_3[0][0]      \n",
            "__________________________________________________________________________________________________\n",
            "conv2d_4 (Conv2D)               (None, 28, 28, 96)   5376        re_lu_3[0][0]                    \n",
            "__________________________________________________________________________________________________\n",
            "dropout_3 (Dropout)             (None, 28, 28, 96)   0           conv2d_4[0][0]                   \n",
            "__________________________________________________________________________________________________\n",
            "batch_normalization_4 (BatchNor (None, 28, 28, 96)   384         dropout_3[0][0]                  \n",
            "__________________________________________________________________________________________________\n",
            "re_lu_4 (ReLU)                  (None, 28, 28, 96)   0           batch_normalization_4[0][0]      \n",
            "__________________________________________________________________________________________________\n",
            "conv2d_5 (Conv2D)               (None, 28, 28, 56)   48384       re_lu_4[0][0]                    \n",
            "__________________________________________________________________________________________________\n",
            "dropout_4 (Dropout)             (None, 28, 28, 56)   0           conv2d_5[0][0]                   \n",
            "__________________________________________________________________________________________________\n",
            "max_pooling2d (MaxPooling2D)    (None, 14, 14, 56)   0           dropout_4[0][0]                  \n",
            "__________________________________________________________________________________________________\n",
            "batch_normalization_1 (BatchNor (None, 14, 14, 56)   224         max_pooling2d[0][0]              \n",
            "__________________________________________________________________________________________________\n",
            "re_lu_1 (ReLU)                  (None, 14, 14, 56)   0           batch_normalization_1[0][0]      \n",
            "__________________________________________________________________________________________________\n",
            "conv2d_2 (Conv2D)               (None, 14, 14, 24)   12096       re_lu_1[0][0]                    \n",
            "__________________________________________________________________________________________________\n",
            "dropout_1 (Dropout)             (None, 14, 14, 24)   0           conv2d_2[0][0]                   \n",
            "__________________________________________________________________________________________________\n",
            "concatenate_1 (Concatenate)     (None, 14, 14, 80)   0           max_pooling2d[0][0]              \n",
            "                                                                 dropout_1[0][0]                  \n",
            "__________________________________________________________________________________________________\n",
            "batch_normalization_5 (BatchNor (None, 14, 14, 80)   320         concatenate_1[0][0]              \n",
            "__________________________________________________________________________________________________\n",
            "re_lu_5 (ReLU)                  (None, 14, 14, 80)   0           batch_normalization_5[0][0]      \n",
            "__________________________________________________________________________________________________\n",
            "conv2d_6 (Conv2D)               (None, 14, 14, 96)   7680        re_lu_5[0][0]                    \n",
            "__________________________________________________________________________________________________\n",
            "dropout_5 (Dropout)             (None, 14, 14, 96)   0           conv2d_6[0][0]                   \n",
            "__________________________________________________________________________________________________\n",
            "batch_normalization_6 (BatchNor (None, 14, 14, 96)   384         dropout_5[0][0]                  \n",
            "__________________________________________________________________________________________________\n",
            "re_lu_6 (ReLU)                  (None, 14, 14, 96)   0           batch_normalization_6[0][0]      \n",
            "__________________________________________________________________________________________________\n",
            "conv2d_7 (Conv2D)               (None, 14, 14, 80)   69120       re_lu_6[0][0]                    \n",
            "__________________________________________________________________________________________________\n",
            "dropout_6 (Dropout)             (None, 14, 14, 80)   0           conv2d_7[0][0]                   \n",
            "__________________________________________________________________________________________________\n",
            "max_pooling2d_1 (MaxPooling2D)  (None, 7, 7, 80)     0           dropout_6[0][0]                  \n",
            "__________________________________________________________________________________________________\n",
            "batch_normalization_2 (BatchNor (None, 7, 7, 80)     320         max_pooling2d_1[0][0]            \n",
            "__________________________________________________________________________________________________\n",
            "re_lu_2 (ReLU)                  (None, 7, 7, 80)     0           batch_normalization_2[0][0]      \n",
            "__________________________________________________________________________________________________\n",
            "conv2d_3 (Conv2D)               (None, 7, 7, 24)     17280       re_lu_2[0][0]                    \n",
            "__________________________________________________________________________________________________\n",
            "dropout_2 (Dropout)             (None, 7, 7, 24)     0           conv2d_3[0][0]                   \n",
            "__________________________________________________________________________________________________\n",
            "concatenate_2 (Concatenate)     (None, 7, 7, 104)    0           max_pooling2d_1[0][0]            \n",
            "                                                                 dropout_2[0][0]                  \n",
            "__________________________________________________________________________________________________\n",
            "batch_normalization_7 (BatchNor (None, 7, 7, 104)    416         concatenate_2[0][0]              \n",
            "__________________________________________________________________________________________________\n",
            "re_lu_7 (ReLU)                  (None, 7, 7, 104)    0           batch_normalization_7[0][0]      \n",
            "__________________________________________________________________________________________________\n",
            "conv2d_8 (Conv2D)               (None, 7, 7, 96)     9984        re_lu_7[0][0]                    \n",
            "__________________________________________________________________________________________________\n",
            "dropout_7 (Dropout)             (None, 7, 7, 96)     0           conv2d_8[0][0]                   \n",
            "__________________________________________________________________________________________________\n",
            "batch_normalization_8 (BatchNor (None, 7, 7, 96)     384         dropout_7[0][0]                  \n",
            "__________________________________________________________________________________________________\n",
            "re_lu_8 (ReLU)                  (None, 7, 7, 96)     0           batch_normalization_8[0][0]      \n",
            "__________________________________________________________________________________________________\n",
            "conv2d_9 (Conv2D)               (None, 7, 7, 104)    89856       re_lu_8[0][0]                    \n",
            "__________________________________________________________________________________________________\n",
            "dropout_8 (Dropout)             (None, 7, 7, 104)    0           conv2d_9[0][0]                   \n",
            "__________________________________________________________________________________________________\n",
            "global_average_pooling2d (Globa (None, 104)          0           dropout_8[0][0]                  \n",
            "__________________________________________________________________________________________________\n",
            "dense_2 (Dense)                 (None, 37)           3885        global_average_pooling2d[0][0]   \n",
            "==================================================================================================\n",
            "Total params: 273,645\n",
            "Trainable params: 272,253\n",
            "Non-trainable params: 1,392\n",
            "__________________________________________________________________________________________________\n"
          ],
          "name": "stdout"
        }
      ]
    },
    {
      "cell_type": "code",
      "metadata": {
        "colab": {
          "base_uri": "https://localhost:8080/"
        },
        "id": "d57lCbpnkQrn",
        "outputId": "1e1d652f-df69-420e-9ad6-7b202b27b83c"
      },
      "source": [
        "model = model.model()\n",
        "model.compile(\n",
        "    optimizer=tf.keras.optimizers.Adam(learning_rate=param.learn_rate),\n",
        "    loss=tf.keras.losses.SparseCategoricalCrossentropy(from_logits=True),\n",
        "    metrics=['accuracy']\n",
        ")\n",
        "\n",
        "#print(model.summary())\n",
        "# you can use model.get_weights() to check if setting random seed is working\n",
        "# or not, you should see the same weights after you restart the runtime\n",
        "#print(model.get_weights())\n",
        "\n",
        "history = model.fit(train_ds, epochs=epochs_to_train, \n",
        "                    validation_data=test_ds, verbose=1)"
      ],
      "execution_count": 23,
      "outputs": [
        {
          "output_type": "stream",
          "text": [
            "Epoch 1/5\n",
            "250/250 [==============================] - 34s 8ms/step - loss: 0.0473 - accuracy: 0.9880 - val_loss: 0.7055 - val_accuracy: 0.9220\n",
            "Epoch 2/5\n",
            "250/250 [==============================] - 2s 8ms/step - loss: 0.0081 - accuracy: 0.9965 - val_loss: 0.2039 - val_accuracy: 1.0000\n",
            "Epoch 3/5\n",
            "250/250 [==============================] - 2s 8ms/step - loss: 1.0740e-04 - accuracy: 1.0000 - val_loss: 1.5913 - val_accuracy: 0.6110\n",
            "Epoch 4/5\n",
            "250/250 [==============================] - 2s 8ms/step - loss: 3.0571e-05 - accuracy: 1.0000 - val_loss: 1.4953 - val_accuracy: 0.8100\n",
            "Epoch 5/5\n",
            "250/250 [==============================] - 2s 8ms/step - loss: 2.8274e-05 - accuracy: 1.0000 - val_loss: 1.3866 - val_accuracy: 0.8910\n"
          ],
          "name": "stdout"
        }
      ]
    },
    {
      "cell_type": "code",
      "metadata": {
        "id": "-1-Kmf0Nz0RA",
        "colab": {
          "base_uri": "https://localhost:8080/"
        },
        "outputId": "00aad317-e940-4e3a-dfa0-09553fd1bc7c"
      },
      "source": [
        "model.save('edense_model')"
      ],
      "execution_count": 24,
      "outputs": [
        {
          "output_type": "stream",
          "text": [
            "INFO:tensorflow:Assets written to: edense_model/assets\n"
          ],
          "name": "stdout"
        }
      ]
    },
    {
      "cell_type": "code",
      "metadata": {
        "id": "DkyZAUZGvB_U"
      },
      "source": [
        "model.save('edense_model.h5',save_format= 'h5')"
      ],
      "execution_count": 25,
      "outputs": []
    },
    {
      "cell_type": "code",
      "metadata": {
        "id": "j2UnxWNCvRwK"
      },
      "source": [
        ""
      ],
      "execution_count": null,
      "outputs": []
    }
  ]
}